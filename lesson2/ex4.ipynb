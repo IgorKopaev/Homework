{
 "cells": [
  {
   "cell_type": "code",
   "execution_count": 1,
   "metadata": {},
   "outputs": [
    {
     "name": "stdout",
     "output_type": "stream",
     "text": [
      "Средняя температура в странах:\n",
      "Thailand - 23.857142857142854\n",
      "Germany - 13.799999999999999\n",
      "Russia - 3.714285714285717\n"
     ]
    }
   ],
   "source": [
    "countries_temperature = [\n",
    "    ['Thailand', [75.2, 77, 78.8, 73.4, 68, 75.2, 77]],\n",
    "    ['Germany', [57.2, 55.4, 59, 59, 53.6]],\n",
    "    ['Russia', [35.6, 37.4, 39.2, 41, 42.8, 39.2, 35.6]],\n",
    "]\n",
    "n = 0\n",
    "temp = countries_temperature[n][1]\n",
    "tempF = sum(temp) / len(temp)\n",
    "tempC = 5/9 * (tempF - 32)\n",
    "print('Средняя температура в странах:')\n",
    "print(countries_temperature[n][0], '-', tempC)\n",
    "while n != len(countries_temperature) - 1:\n",
    "    n = n + 1\n",
    "    temp = countries_temperature[n][1]\n",
    "    tempF = sum(temp) / len(temp)\n",
    "    tempC = 5/9 * (tempF - 32)\n",
    "    print(countries_temperature[n][0], '-', tempC)\n"
   ]
  },
  {
   "cell_type": "code",
   "execution_count": null,
   "metadata": {},
   "outputs": [],
   "source": []
  }
 ],
 "metadata": {
  "kernelspec": {
   "display_name": "Python 3",
   "language": "python",
   "name": "python3"
  },
  "language_info": {
   "codemirror_mode": {
    "name": "ipython",
    "version": 3
   },
   "file_extension": ".py",
   "mimetype": "text/x-python",
   "name": "python",
   "nbconvert_exporter": "python",
   "pygments_lexer": "ipython3",
   "version": "3.8.5"
  }
 },
 "nbformat": 4,
 "nbformat_minor": 4
}
