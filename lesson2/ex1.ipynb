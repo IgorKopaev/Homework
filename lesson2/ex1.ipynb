{
 "cells": [
  {
   "cell_type": "code",
   "execution_count": null,
   "metadata": {},
   "outputs": [],
   "source": [
    "word = input()\n",
    "length = len(word)\n",
    "if length % 2 > 0:\n",
    "    middle_number = length // 2\n",
    "    middle_letter = word[middle_number]\n",
    "    print('Результат:')\n",
    "    print(middle_letter)\n",
    "else:\n",
    "    middle_number1 = (length / 2) - 1\n",
    "    middle_number2 = middle_number1 + 1\n",
    "    middle_letter1 = word[int(middle_number1)]\n",
    "    middle_letter2 = word[int(middle_number2)]\n",
    "    print('Результат:')\n",
    "    print(middle_letter1 + middle_letter2)"
   ]
  }
 ],
 "metadata": {
  "kernelspec": {
   "display_name": "Python 3",
   "language": "python",
   "name": "python3"
  },
  "language_info": {
   "codemirror_mode": {
    "name": "ipython",
    "version": 3
   },
   "file_extension": ".py",
   "mimetype": "text/x-python",
   "name": "python",
   "nbconvert_exporter": "python",
   "pygments_lexer": "ipython3",
   "version": "3.8.5"
  }
 },
 "nbformat": 4,
 "nbformat_minor": 4
}
