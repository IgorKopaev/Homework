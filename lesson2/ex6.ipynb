{
 "cells": [
  {
   "cell_type": "code",
   "execution_count": 59,
   "metadata": {},
   "outputs": [
    {
     "name": "stdout",
     "output_type": "stream",
     "text": [
      "Введите числа:\n",
      "10 15 15 103 200 200 200 1 1 1 1 1 2 2 2\n",
      "Результат:\n",
      "1 2 15 200\n"
     ]
    }
   ],
   "source": [
    "print(\"Введите числа:\")\n",
    "numbers = input().split()\n",
    "for i in range (len(numbers)):\n",
    "    numbers[i] = int(numbers[i])\n",
    "numbers = sorted(numbers)\n",
    "ind = 0\n",
    "el = numbers[0]\n",
    "result = [el]\n",
    "for element in numbers:\n",
    "    el = numbers[ind]\n",
    "    digit = numbers.count(el)\n",
    "    if digit > 1:\n",
    "        result.append(el)\n",
    "    ind += 1\n",
    "del(result[0])\n",
    "ind = 0\n",
    "n = result[0]\n",
    "result_1 = [n]\n",
    "for element in range((len(result)) - 1):\n",
    "    el = result[ind]\n",
    "    el_1 = result[ind + 1]\n",
    "    if el != el_1:\n",
    "        result_1.append(el)\n",
    "    ind += 1\n",
    "last_n = result[-1]\n",
    "result_1.append(last_n)\n",
    "del(result_1[0])\n",
    "for i in range (len(result_1)):\n",
    "    result_1[i] = str(result_1[i])\n",
    "print('Результат:')\n",
    "print(' '.join(result_1))"
   ]
  },
  {
   "cell_type": "code",
   "execution_count": null,
   "metadata": {},
   "outputs": [],
   "source": []
  },
  {
   "cell_type": "code",
   "execution_count": null,
   "metadata": {},
   "outputs": [],
   "source": []
  }
 ],
 "metadata": {
  "kernelspec": {
   "display_name": "Python 3",
   "language": "python",
   "name": "python3"
  },
  "language_info": {
   "codemirror_mode": {
    "name": "ipython",
    "version": 3
   },
   "file_extension": ".py",
   "mimetype": "text/x-python",
   "name": "python",
   "nbconvert_exporter": "python",
   "pygments_lexer": "ipython3",
   "version": "3.8.5"
  }
 },
 "nbformat": 4,
 "nbformat_minor": 4
}
