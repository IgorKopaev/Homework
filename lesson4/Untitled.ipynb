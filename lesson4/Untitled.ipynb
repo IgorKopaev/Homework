{
 "cells": [
  {
   "cell_type": "code",
   "execution_count": 79,
   "metadata": {},
   "outputs": [],
   "source": [
    "documents = [\n",
    "{'type': 'passport', 'number': '2207 876234', 'name': 'Василий Гупкин'},\n",
    "{'type': 'invoice', 'number': '11-2', 'name': 'Геннадий Покемонов'},\n",
    "{'type': 'insurance', 'number': '10006', 'name': 'Аристарх Павлов'}\n",
    "]\n",
    "\n",
    "directories = {\n",
    "'1': ['2207 876234', '11-2'],\n",
    "'2': ['10006'],\n",
    "'3': []\n",
    "}\n",
    "\n",
    "def name_by_document_number(p):\n",
    "    number = input('Введите номер документа: ')\n",
    "    for el in documents:\n",
    "        if number in el.values():\n",
    "            print('Владелец документа:', el['name'])\n",
    "            break\n",
    "        elif el == documents[-1]:\n",
    "            print('Документ не найден в базе')\n",
    "\n",
    "def directories_by_document_number(s):\n",
    "    number = input('Введите номер документа: ')\n",
    "    docs = list(directories.items())\n",
    "    for directorie in docs:\n",
    "        if number in directorie[1]:\n",
    "            print('Документ хранится на полке:', directorie[0])\n",
    "            break\n",
    "        elif directorie == docs[-1]:\n",
    "            print('Документ не найден в базе')"
   ]
  },
  {
   "cell_type": "code",
   "execution_count": 82,
   "metadata": {},
   "outputs": [],
   "source": [
    "while command != 'q':\n",
    "    command = input('Введите команду: ')\n",
    "    if command == 'p':\n",
    "        name_by_document_number(command)\n",
    "    elif command == 's':\n",
    "        directories_by_document_number(command)"
   ]
  },
  {
   "cell_type": "code",
   "execution_count": 81,
   "metadata": {},
   "outputs": [
    {
     "data": {
      "text/plain": [
       "2"
      ]
     },
     "execution_count": 81,
     "metadata": {},
     "output_type": "execute_result"
    }
   ],
   "source": []
  },
  {
   "cell_type": "code",
   "execution_count": null,
   "metadata": {},
   "outputs": [],
   "source": []
  }
 ],
 "metadata": {
  "kernelspec": {
   "display_name": "Python 3",
   "language": "python",
   "name": "python3"
  },
  "language_info": {
   "codemirror_mode": {
    "name": "ipython",
    "version": 3
   },
   "file_extension": ".py",
   "mimetype": "text/x-python",
   "name": "python",
   "nbconvert_exporter": "python",
   "pygments_lexer": "ipython3",
   "version": "3.8.5"
  }
 },
 "nbformat": 4,
 "nbformat_minor": 4
}
