{
 "cells": [
  {
   "cell_type": "code",
   "execution_count": 57,
   "metadata": {},
   "outputs": [],
   "source": [
    "import json"
   ]
  },
  {
   "cell_type": "code",
   "execution_count": 58,
   "metadata": {},
   "outputs": [],
   "source": [
    "purchases = {}\n",
    "\n",
    "with open('purchase_log.txt') as f1:\n",
    "    f1.readline()\n",
    "    for line in f1:\n",
    "        ident = json.loads(line)\n",
    "        purchases[ident['user_id']] = ident['category']\n"
   ]
  },
  {
   "cell_type": "code",
   "execution_count": 59,
   "metadata": {},
   "outputs": [],
   "source": [
    "with open('visit_log.csv') as f:\n",
    "    with open('funnel.csv', 'w') as f2write:\n",
    "        for line in f:\n",
    "            another_line = line.strip().split(',')\n",
    "            if another_line[0] in purchases:\n",
    "                another_line.append(purchases[another_line[0]])\n",
    "                w = ','.join(another_line)\n",
    "                w = w + '\\n'\n",
    "                f2write.write(w)"
   ]
  },
  {
   "cell_type": "code",
   "execution_count": null,
   "metadata": {},
   "outputs": [],
   "source": []
  }
 ],
 "metadata": {
  "kernelspec": {
   "display_name": "Python 3",
   "language": "python",
   "name": "python3"
  },
  "language_info": {
   "codemirror_mode": {
    "name": "ipython",
    "version": 3
   },
   "file_extension": ".py",
   "mimetype": "text/x-python",
   "name": "python",
   "nbconvert_exporter": "python",
   "pygments_lexer": "ipython3",
   "version": "3.8.5"
  }
 },
 "nbformat": 4,
 "nbformat_minor": 4
}
