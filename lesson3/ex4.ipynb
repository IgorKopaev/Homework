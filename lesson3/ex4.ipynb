{
 "cells": [
  {
   "cell_type": "code",
   "execution_count": 49,
   "metadata": {},
   "outputs": [
    {
     "name": "stdout",
     "output_type": "stream",
     "text": [
      "[55, 'facebook']\n",
      "[115, 'yandex']\n",
      "[120, 'vk']\n",
      "[999, 'google']\n",
      "[42, 'email']\n",
      "[999, 'ok']\n",
      "Максимальный объем продаж на рекламном канале: ok\n"
     ]
    }
   ],
   "source": [
    "stats = {'facebook': 55, 'yandex': 115, 'vk': 120, 'google': 99, 'email': 42, 'ok': 98,}\n",
    "stats1 = list(stats.items())\n",
    "stats2 = []\n",
    "for i, el in enumerate(stats1):\n",
    "    el = list(stats1[i])\n",
    "    el1 = el[0]\n",
    "    el.append(el1)\n",
    "    del(el[0])\n",
    "    print(el)\n",
    "    stats2.append(el)\n",
    "stats2\n",
    "result = max(stats2)\n",
    "print('Максимальный объем продаж на рекламном канале:', result[1])"
   ]
  },
  {
   "cell_type": "code",
   "execution_count": null,
   "metadata": {},
   "outputs": [],
   "source": []
  },
  {
   "cell_type": "code",
   "execution_count": null,
   "metadata": {},
   "outputs": [],
   "source": []
  }
 ],
 "metadata": {
  "kernelspec": {
   "display_name": "Python 3",
   "language": "python",
   "name": "python3"
  },
  "language_info": {
   "codemirror_mode": {
    "name": "ipython",
    "version": 3
   },
   "file_extension": ".py",
   "mimetype": "text/x-python",
   "name": "python",
   "nbconvert_exporter": "python",
   "pygments_lexer": "ipython3",
   "version": "3.8.5"
  }
 },
 "nbformat": 4,
 "nbformat_minor": 4
}
