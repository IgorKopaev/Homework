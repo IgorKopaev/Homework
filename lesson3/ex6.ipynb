{
 "cells": [
  {
   "cell_type": "code",
   "execution_count": 51,
   "metadata": {},
   "outputs": [
    {
     "name": "stdout",
     "output_type": "stream",
     "text": [
      "Введите количесвто персон: 1\n",
      "Результат:\n",
      "Сыр 70 гр\n",
      "Томаты 2 шт\n",
      "Огурцы 20 гр\n",
      "Маслины 10 гр\n",
      "Оливковое Масло 20 мл\n",
      "Салат 10 гр\n",
      "Перец 20 гр\n",
      "Колбаса 30 гр\n",
      "Бекон 30 гр\n",
      "Оливки 10 гр\n",
      "Томаты 20 гр\n",
      "Тесто 100 гр\n",
      "Лимон 21 гр\n",
      "Вода 200 мл\n",
      "Сахар 10 гр\n"
     ]
    }
   ],
   "source": [
    "cook_book = {\n",
    "  'салат': [\n",
    "     {'ingridient_name': 'сыр', 'quantity': 50, 'measure': 'гр'},\n",
    "     {'ingridient_name': 'томаты', 'quantity': 2, 'measure': 'шт'},\n",
    "     {'ingridient_name': 'огурцы', 'quantity': 20, 'measure': 'гр'},\n",
    "     {'ingridient_name': 'маслины', 'quantity': 10, 'measure': 'гр'},\n",
    "     {'ingridient_name': 'оливковое масло', 'quantity': 20, 'measure': 'мл'},\n",
    "     {'ingridient_name': 'салат', 'quantity': 10, 'measure': 'гр'},\n",
    "     {'ingridient_name': 'перец', 'quantity': 20, 'measure': 'гр'}\n",
    "    ],\n",
    "  'пицца': [\n",
    "     {'ingridient_name': 'сыр', 'quantity': 20, 'measure': 'гр'},\n",
    "     {'ingridient_name': 'колбаса', 'quantity': 30, 'measure': 'гр'},\n",
    "     {'ingridient_name': 'бекон', 'quantity': 30, 'measure': 'гр'},\n",
    "     {'ingridient_name': 'оливки', 'quantity': 10, 'measure': 'гр'},\n",
    "     {'ingridient_name': 'томаты', 'quantity': 20, 'measure': 'гр'},\n",
    "     {'ingridient_name': 'тесто', 'quantity': 100, 'measure': 'гр'},   \n",
    "    ],\n",
    "  'лимонад': [\n",
    "     {'ingridient_name': 'лимон', 'quantity': 1, 'measure': 'гр'},\n",
    "     {'ingridient_name': 'вода', 'quantity': 200, 'measure': 'мл'},\n",
    "     {'ingridient_name': 'сахар', 'quantity': 10, 'measure': 'гр'},\n",
    "     {'ingridient_name': 'лимон', 'quantity': 20, 'measure': 'гр'},    \n",
    "    ]\n",
    "}\n",
    "person = int(input('Введите количесвто персон: '))\n",
    "shop_list = {}\n",
    "for dish in cook_book.values():\n",
    "    for ingridient in dish:\n",
    "        if (ingridient['ingridient_name'], ingridient['measure']) not in shop_list:\n",
    "            shop_list[(ingridient['ingridient_name'], ingridient['measure'])] = ingridient['quantity'] * person\n",
    "        else:\n",
    "            shop_list[(ingridient['ingridient_name'], ingridient['measure'])] += ingridient['quantity'] * person\n",
    "print('Результат:')\n",
    "for name, q in shop_list.items():\n",
    "    print(f'{name[0].title()}', q, name[1])\n",
    "            \n",
    "            "
   ]
  }
 ],
 "metadata": {
  "kernelspec": {
   "display_name": "Python 3",
   "language": "python",
   "name": "python3"
  },
  "language_info": {
   "codemirror_mode": {
    "name": "ipython",
    "version": 3
   },
   "file_extension": ".py",
   "mimetype": "text/x-python",
   "name": "python",
   "nbconvert_exporter": "python",
   "pygments_lexer": "ipython3",
   "version": "3.8.5"
  }
 },
 "nbformat": 4,
 "nbformat_minor": 4
}
