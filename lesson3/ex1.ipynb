{
 "cells": [
  {
   "cell_type": "code",
   "execution_count": 74,
   "metadata": {},
   "outputs": [
    {
     "name": "stdout",
     "output_type": "stream",
     "text": [
      "{98, 35, 4, 5, 15, 213, 54, 119}\n"
     ]
    }
   ],
   "source": [
    "ids = {'user1': [213, 213, 213, 15, 213], \n",
    "       'user2': [54, 54, 119, 119, 119], \n",
    "       'user3': [213, 98, 98, 35],\n",
    "       'user4': [4, 5]}\n",
    "geodata = []\n",
    "for value in ids.values():\n",
    "    value = set(value)\n",
    "    geodata.append(value)\n",
    "ind = 0\n",
    "result = {}\n",
    "result = set(result)\n",
    "for i in range (len(geodata) - 1):\n",
    "    set_1 = geodata[ind].union(geodata[ind+1])\n",
    "    result = result.union(set_1)\n",
    "    ind += 1\n",
    "print(result)"
   ]
  }
 ],
 "metadata": {
  "kernelspec": {
   "display_name": "Python 3",
   "language": "python",
   "name": "python3"
  },
  "language_info": {
   "codemirror_mode": {
    "name": "ipython",
    "version": 3
   },
   "file_extension": ".py",
   "mimetype": "text/x-python",
   "name": "python",
   "nbconvert_exporter": "python",
   "pygments_lexer": "ipython3",
   "version": "3.8.5"
  }
 },
 "nbformat": 4,
 "nbformat_minor": 4
}
