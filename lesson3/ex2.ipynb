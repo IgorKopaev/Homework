{
 "cells": [
  {
   "cell_type": "code",
   "execution_count": 33,
   "metadata": {},
   "outputs": [
    {
     "name": "stdout",
     "output_type": "stream",
     "text": [
      "Поисковых запросов, содержащих 2 слов(а): 37.5%\n",
      "Поисковых запросов, содержащих 3 слов(а): 50.0%\n",
      "Поисковых запросов, содержащих 4 слов(а): 12.5%\n"
     ]
    }
   ],
   "source": [
    "queries = [\n",
    "    'смотреть сериалы онлайн',\n",
    "    'новости спорта',\n",
    "    'афиша кино',\n",
    "    'курс доллара',\n",
    "    'сериалы этим летом',\n",
    "    'курс по питону',\n",
    "    'сериалы про спорт',\n",
    "    'куда поехать заграницу сейчас'\n",
    "]\n",
    "numbers = []\n",
    "for i, el in enumerate(queries):\n",
    "    el = queries[i]\n",
    "    cut_line = el.replace(' ','')\n",
    "    n_words = len(el) - len(cut_line) + 1\n",
    "    numbers.append(n_words)\n",
    "cut_numbers = set(numbers)\n",
    "cut_numbers = list(cut_numbers)\n",
    "sorted(cut_numbers)\n",
    "for i, el in enumerate(cut_numbers):\n",
    "    el = numbers.count(cut_numbers[i])\n",
    "    request = (el / len(queries)) * 100\n",
    "    print('Поисковых запросов, содержащих', cut_numbers[i], 'слов(а):', request, end='%\\n')\n",
    "    "
   ]
  }
 ],
 "metadata": {
  "kernelspec": {
   "display_name": "Python 3",
   "language": "python",
   "name": "python3"
  },
  "language_info": {
   "codemirror_mode": {
    "name": "ipython",
    "version": 3
   },
   "file_extension": ".py",
   "mimetype": "text/x-python",
   "name": "python",
   "nbconvert_exporter": "python",
   "pygments_lexer": "ipython3",
   "version": "3.8.5"
  }
 },
 "nbformat": 4,
 "nbformat_minor": 4
}
