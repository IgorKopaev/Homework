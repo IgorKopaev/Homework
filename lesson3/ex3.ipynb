{
 "cells": [
  {
   "cell_type": "code",
   "execution_count": 37,
   "metadata": {},
   "outputs": [
    {
     "data": {
      "text/plain": [
       "{'adwords': {'revenue': 103, 'cost': 98, 'ROI': 5.1},\n",
       " 'facebook': {'revenue': 179, 'cost': 153, 'ROI': 16.99},\n",
       " 'twitter': {'revenue': 103, 'cost': 110, 'ROI': -6.36},\n",
       " 'vk': {'revenue': 35, 'cost': 34, 'ROI': 2.94},\n",
       " 'yandex': {'revenue': 11, 'cost': 24, 'ROI': -54.17}}"
      ]
     },
     "execution_count": 37,
     "metadata": {},
     "output_type": "execute_result"
    }
   ],
   "source": [
    "results = {\n",
    "    'vk': {'revenue': 103, 'cost': 98},\n",
    "    'yandex': {'revenue': 179, 'cost': 153},\n",
    "    'facebook': {'revenue': 103, 'cost': 110},\n",
    "    'adwords': {'revenue': 35, 'cost': 34},\n",
    "    'twitter': {'revenue': 11, 'cost': 24},\n",
    "}\n",
    "results2 = {}\n",
    "social = results.keys()\n",
    "social = list(social)\n",
    "social = sorted(social)\n",
    "social2 = results.values()\n",
    "social2 = list(social2)\n",
    "for i, el in enumerate(social):\n",
    "    el = results[social[i]]\n",
    "    num = el.values()\n",
    "    num = list(num)\n",
    "    ROI = (num[0] / num[1] - 1) * 100\n",
    "    ROI = round(ROI, 2)\n",
    "    el['ROI'] = ROI\n",
    "    x = str(social[i])\n",
    "    results2[x] = social2[i]\n",
    "results2"
   ]
  }
 ],
 "metadata": {
  "kernelspec": {
   "display_name": "Python 3",
   "language": "python",
   "name": "python3"
  },
  "language_info": {
   "codemirror_mode": {
    "name": "ipython",
    "version": 3
   },
   "file_extension": ".py",
   "mimetype": "text/x-python",
   "name": "python",
   "nbconvert_exporter": "python",
   "pygments_lexer": "ipython3",
   "version": "3.8.5"
  }
 },
 "nbformat": 4,
 "nbformat_minor": 4
}
