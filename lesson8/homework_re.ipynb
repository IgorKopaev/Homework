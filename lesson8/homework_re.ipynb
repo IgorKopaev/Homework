{
 "cells": [
  {
   "cell_type": "code",
   "execution_count": 253,
   "metadata": {},
   "outputs": [],
   "source": [
    "import re"
   ]
  },
  {
   "cell_type": "markdown",
   "metadata": {},
   "source": [
    "Задание 1"
   ]
  },
  {
   "cell_type": "code",
   "execution_count": 453,
   "metadata": {},
   "outputs": [],
   "source": [
    "car_id = 'А222BС96'"
   ]
  },
  {
   "cell_type": "code",
   "execution_count": 454,
   "metadata": {},
   "outputs": [],
   "source": [
    "def car_id_validation(car_id):\n",
    "    x = re.findall(r'^\\w\\d{3}\\w{2}\\d{2,3}$', car_id)\n",
    "    if x != [] and x[0] == car_id:\n",
    "        number = re.findall(r'^\\w\\d{3}\\w{2}', car_id)\n",
    "        region = re.findall(r'\\d{2,3}$', car_id)\n",
    "        return print('Результ: Номер', number[0], 'валиден. Регион:', region[0])\n",
    "    else:\n",
    "        return print('Результат: Номер не валиден')"
   ]
  },
  {
   "cell_type": "code",
   "execution_count": 455,
   "metadata": {},
   "outputs": [
    {
     "name": "stdout",
     "output_type": "stream",
     "text": [
      "Результ: Номер А222BС валиден. Регион: 96\n"
     ]
    }
   ],
   "source": [
    "car_id_validation(car_id)"
   ]
  },
  {
   "cell_type": "markdown",
   "metadata": {},
   "source": [
    "Задание 2"
   ]
  },
  {
   "cell_type": "code",
   "execution_count": 470,
   "metadata": {},
   "outputs": [],
   "source": [
    "some_string = \"\"\"Напишите функцию функцию, которая будет будет будет будет удалять все все все все \n",
    " последовательные повторы слов из из из из заданной строки строки при помощи регулярных выражений\"\"\""
   ]
  },
  {
   "cell_type": "code",
   "execution_count": 484,
   "metadata": {},
   "outputs": [],
   "source": [
    "def clean_sentence(some_string):\n",
    "    correct_senten = []\n",
    "    [correct_senten.append(word) for word in re.findall(r'\\w+', some_string) if word not in correct_senten]\n",
    "    return ' '.join(correct_senten)"
   ]
  },
  {
   "cell_type": "code",
   "execution_count": 485,
   "metadata": {},
   "outputs": [
    {
     "data": {
      "text/plain": [
       "'Напишите функцию которая будет удалять все последовательные повторы слов из заданной строки при помощи регулярных выражений'"
      ]
     },
     "execution_count": 485,
     "metadata": {},
     "output_type": "execute_result"
    }
   ],
   "source": [
    "clean_sentence(some_string)"
   ]
  },
  {
   "cell_type": "markdown",
   "metadata": {},
   "source": [
    "Задание 3"
   ]
  },
  {
   "cell_type": "code",
   "execution_count": 521,
   "metadata": {},
   "outputs": [],
   "source": [
    "some_words = 'Near Field Communication'"
   ]
  },
  {
   "cell_type": "code",
   "execution_count": 519,
   "metadata": {},
   "outputs": [],
   "source": [
    "def make_acronim(some_words):\n",
    "    letters = []\n",
    "    for word in re.findall(r'\\w+', some_words):\n",
    "        letters.append(word[0].upper())\n",
    "    return ''.join(letters)"
   ]
  },
  {
   "cell_type": "code",
   "execution_count": 522,
   "metadata": {},
   "outputs": [
    {
     "data": {
      "text/plain": [
       "'NFC'"
      ]
     },
     "execution_count": 522,
     "metadata": {},
     "output_type": "execute_result"
    }
   ],
   "source": [
    "make_acronim(some_words)"
   ]
  },
  {
   "cell_type": "markdown",
   "metadata": {},
   "source": [
    "Задание 4"
   ]
  },
  {
   "cell_type": "code",
   "execution_count": 533,
   "metadata": {},
   "outputs": [],
   "source": [
    "emails = ['test@gmail.com, xyz@test.in, test@ya.ru, xyz@mail.ru, xyz@ya.ru, xyz@gmail.com']"
   ]
  },
  {
   "cell_type": "code",
   "execution_count": 534,
   "metadata": {},
   "outputs": [],
   "source": [
    "import copy"
   ]
  },
  {
   "cell_type": "code",
   "execution_count": 567,
   "metadata": {},
   "outputs": [],
   "source": [
    "def count_domens(emils):\n",
    "    domens = re.findall(r'@\\w+.\\w+', str(emails))\n",
    "    clean_domens = set(copy.copy(domens))\n",
    "    [print(domen, domens.count(domen), sep=': ') for domen in clean_domens]"
   ]
  },
  {
   "cell_type": "code",
   "execution_count": 568,
   "metadata": {},
   "outputs": [
    {
     "name": "stdout",
     "output_type": "stream",
     "text": [
      "@ya.ru: 2\n",
      "@gmail.com: 2\n",
      "@test.in: 1\n",
      "@mail.ru: 1\n"
     ]
    }
   ],
   "source": [
    "count_domens(emails)"
   ]
  },
  {
   "cell_type": "markdown",
   "metadata": {},
   "source": [
    "Задание 5"
   ]
  },
  {
   "cell_type": "code",
   "execution_count": 602,
   "metadata": {},
   "outputs": [],
   "source": [
    "some_text = '''Эталонной реализацией Python является интерпретатор CPython,поддерживающий большинство\n",
    "активно используемых платформ. Он распространяется под свободной лицензией Python Software Foundation License,\n",
    "позволяющей использовать его без ограничений в любых приложениях, включая проприетарные.'''"
   ]
  },
  {
   "cell_type": "code",
   "execution_count": 604,
   "metadata": {},
   "outputs": [],
   "source": [
    "def number_of_vowels_consonants(some_text):\n",
    "    vowels = len(re.findall(r'\\b[ауоыиэяюёеАУОЫИЭЯЮЁЕAaEeIiOoUuYy]', some_text))\n",
    "    all_letters = len(re.findall(r'\\b\\w', some_text))\n",
    "    consonants = all_letters - vowels\n",
    "    print('Слов на гласные буквы:', vowels)\n",
    "    print('Слов на согласные буквы:', consonants)"
   ]
  },
  {
   "cell_type": "code",
   "execution_count": 605,
   "metadata": {},
   "outputs": [
    {
     "name": "stdout",
     "output_type": "stream",
     "text": [
      "Слов на гласные буквы: 9\n",
      "Слов на согласные буквы: 21\n"
     ]
    }
   ],
   "source": [
    "number_of_vowels_consonants(some_text)"
   ]
  },
  {
   "cell_type": "markdown",
   "metadata": {},
   "source": [
    "Задание 6"
   ]
  },
  {
   "cell_type": "code",
   "execution_count": null,
   "metadata": {},
   "outputs": [],
   "source": []
  }
 ],
 "metadata": {
  "kernelspec": {
   "display_name": "Python 3",
   "language": "python",
   "name": "python3"
  },
  "language_info": {
   "codemirror_mode": {
    "name": "ipython",
    "version": 3
   },
   "file_extension": ".py",
   "mimetype": "text/x-python",
   "name": "python",
   "nbconvert_exporter": "python",
   "pygments_lexer": "ipython3",
   "version": "3.8.5"
  }
 },
 "nbformat": 4,
 "nbformat_minor": 4
}
