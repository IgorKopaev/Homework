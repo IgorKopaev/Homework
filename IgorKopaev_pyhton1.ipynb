{
 "cells": [
  {
   "cell_type": "code",
   "execution_count": null,
   "metadata": {},
   "outputs": [],
   "source": [
    "phrase_1, phrase_2 = input(), input()\n",
    "if phrase_1 > phrase_2:\n",
    "    print('Фраза 1 длинее Фразы 2')\n",
    "elif phrase_1 == phrase_2:\n",
    "    print('Фразы равной длины')\n",
    "else:\n",
    "    print('Фраза 2 длинее Фразы 1')"
   ]
  },
  {
   "cell_type": "code",
   "execution_count": null,
   "metadata": {},
   "outputs": [],
   "source": [
    "year = int(input())\n",
    "if (year % 4 == 0 or year % 100 == 0) and year % 100 > 0:\n",
    "    print('Вискосный год')\n",
    "else:\n",
    "    print('Обычный год')"
   ]
  },
  {
   "cell_type": "code",
   "execution_count": 14,
   "metadata": {},
   "outputs": [
    {
     "name": "stdout",
     "output_type": "stream",
     "text": [
      "Введите день\n",
      "23\n",
      "Введите месяц\n",
      "Январь\n",
      "Результат:\n",
      "Ваш знак зодиака: Водолей\n"
     ]
    }
   ],
   "source": [
    "print('Введите день')\n",
    "day = int(input())\n",
    "print('Введите месяц')\n",
    "month = input()\n",
    "if (day >= 21 and month == 'Март') or (day <= 19 and month == 'Апрель'):\n",
    "    print('Результат:')\n",
    "    print('Ваш знак зодиака: Овен')\n",
    "elif (day >= 20 and month == 'Апрель') or (day <= 20 and month == 'Май'):\n",
    "    print('Результат:')\n",
    "    print('Ваш знак зодиака: Телец')\n",
    "elif (day >= 21 and month == 'Май') or (day <= 20 and month == 'Июнь'):\n",
    "    print('Результат:')\n",
    "    print('Ваш знак зодиака: Близнецы')\n",
    "elif (day >= 21 and month == 'Июнь') or (day <= 22 and month == 'Июль'):\n",
    "    print('Результат:')\n",
    "    print('Ваш знак зодиака: Рак')\n",
    "elif (day >= 23 and month == 'Июль') or (day <= 22 and month == 'Август'):\n",
    "    print('Результат:')\n",
    "    print('Ваш знак зодиака: Лев')\n",
    "elif (day >= 23 and month == 'Август') or (day <= 22 and month == 'Сентябрь'):\n",
    "    print('Результат:')\n",
    "    print('Ваш знак зодиака: Дева')\n",
    "elif (day >= 23 and month == 'Сентябрь') or (day <= 22 and month == 'Октябрь'):\n",
    "    print('Результат:')\n",
    "    print('Ваш знак зодиака: Весы')\n",
    "elif (day >= 23 and month == 'Октябрь') or (day <= 21 and month == 'Ноябрь'):\n",
    "    print('Результат:')\n",
    "    print('Ваш знак зодиака: Скорпион')\n",
    "elif (day >= 22 and month == 'Ноябрь') or (day <= 21 and month == 'Декабрь'):\n",
    "    print('Результат:')\n",
    "    print('Ваш знак зодиака: Стрелец')\n",
    "elif (day >= 22 and month == 'Декабрь') or (day <= 19 and month == 'Январь'):\n",
    "    print('Результат:')\n",
    "    print('Ваш знак зодиака: Козерог')\n",
    "elif (day >= 20 and month == 'Январь') or (day <= 18 and month == 'Февраль'):\n",
    "    print('Результат:')\n",
    "    print('Ваш знак зодиака: Водолей')\n",
    "elif (day >= 19 and month == 'Февраль') or (day <= 20 and month == 'Март'):\n",
    "    print('Результат:')\n",
    "    print('Ваш знак зодиака: Рыбы')"
   ]
  },
  {
   "cell_type": "code",
   "execution_count": 29,
   "metadata": {},
   "outputs": [
    {
     "name": "stdout",
     "output_type": "stream",
     "text": [
      "16\n",
      "12\n",
      "1\n",
      "Коробка №2\n"
     ]
    }
   ],
   "source": [
    "width, length, heigt = int(input()), int(input()), int(input())\n",
    "if width < 15 and length < 15 and heigt < 15:\n",
    "    print('Коробка №1')\n",
    "elif length > 200:\n",
    "    print('Упаковка для лыж')\n",
    "elif 15 < width < 50 or 15 < length < 50 or 15 < heigt < 50:\n",
    "    print('Коробка №2')\n",
    "else:\n",
    "    print('Стандартная коробка №3')"
   ]
  },
  {
   "cell_type": "code",
   "execution_count": 32,
   "metadata": {},
   "outputs": [
    {
     "name": "stdout",
     "output_type": "stream",
     "text": [
      "123321\n",
      "Результат:\n",
      "Счастливый билет\n"
     ]
    }
   ],
   "source": [
    "number = int(input())\n",
    "digit1 = number % 10\n",
    "digit2 = (number % 100) // 10\n",
    "digit3 = (number % 1000) // 100\n",
    "digit4 = (number % 10000) // 1000\n",
    "digit5 = (number % 100000) // 10000\n",
    "digit6 = number // 100000\n",
    "if digit1 + digit2 + digit3 == digit4 + digit5 + digit6:\n",
    "    print('Результат:')\n",
    "    print('Счастливый билет')\n",
    "else:\n",
    "    print('Результат')\n",
    "    print('Несчастливый билет')"
   ]
  },
  {
   "cell_type": "code",
   "execution_count": 44,
   "metadata": {},
   "outputs": [
    {
     "name": "stdout",
     "output_type": "stream",
     "text": [
      "Введите тип фигуры\n",
      "Прямоугольник\n",
      "Введите длину стороны A\n",
      "5\n",
      "Введите длину стороны B\n",
      "5\n",
      "Результат:\n",
      "Площадь прямоугольника: 25\n"
     ]
    }
   ],
   "source": [
    "print('Введите тип фигуры')\n",
    "figure = input()\n",
    "if figure == 'Круг':\n",
    "    print('Введите радиус')\n",
    "    radius = float(input())\n",
    "    from math import pi\n",
    "    S = pi * (radius ** 2)\n",
    "    print('Результат')\n",
    "    print('Площадь круга:', S)\n",
    "elif figure == 'Треугольник':\n",
    "    print('Введите длину стороны A')\n",
    "    a = int(input())\n",
    "    print('Введите длину стороны B')\n",
    "    b = int(input())\n",
    "    print('Введите длину стороны C')\n",
    "    c = int(input())\n",
    "    p = (a + b + c) / 2\n",
    "    S = (p * (p - a) * (p - b) * (p - c)) ** 0.5\n",
    "    print('Результат:')\n",
    "    print('Площадь треугольника:', S)\n",
    "elif figure == 'Прямоугольник':\n",
    "    print('Введите длину стороны A')\n",
    "    a = int(input())\n",
    "    print('Введите длину стороны B')\n",
    "    b = int(input())\n",
    "    S = a * b\n",
    "    print('Результат:')\n",
    "    print('Площадь прямоугольника:', S)"
   ]
  },
  {
   "cell_type": "code",
   "execution_count": null,
   "metadata": {},
   "outputs": [],
   "source": []
  }
 ],
 "metadata": {
  "kernelspec": {
   "display_name": "Python 3",
   "language": "python",
   "name": "python3"
  },
  "language_info": {
   "codemirror_mode": {
    "name": "ipython",
    "version": 3
   },
   "file_extension": ".py",
   "mimetype": "text/x-python",
   "name": "python",
   "nbconvert_exporter": "python",
   "pygments_lexer": "ipython3",
   "version": "3.8.5"
  }
 },
 "nbformat": 4,
 "nbformat_minor": 4
}
